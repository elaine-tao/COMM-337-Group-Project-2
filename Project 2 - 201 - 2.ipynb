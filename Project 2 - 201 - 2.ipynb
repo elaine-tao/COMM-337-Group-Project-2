{
 "cells": [
  {
   "cell_type": "markdown",
   "metadata": {},
   "source": [
    "# COMM 337 Project 2\n",
    "### Section Number: 201\n",
    "### Group Number: 2\n",
    "\n",
    "#### Group Member 1:\n",
    "* Full Name: Cynthia Wang\n",
    "* Email: cynthiacwwang@gmail.com\n",
    "* Student ID: 25804212\n",
    "\n",
    "#### Group Member 2:\n",
    "* Full Name: Clare O'Brien\n",
    "* Email: eclaireobrien@gmail.com\n",
    "* Student ID: 51913846\n",
    "\n",
    "#### Group Member 3:\n",
    "* Full Name: Elaine Tao\n",
    "* Email: elaine.tao0711@gmail.com\n",
    "* Student ID: 22213367"
   ]
  },
  {
   "cell_type": "code",
   "execution_count": 1,
   "metadata": {},
   "outputs": [],
   "source": [
    "import pandas as pd\n",
    "import numpy as np"
   ]
  },
  {
   "cell_type": "markdown",
   "metadata": {},
   "source": [
    "# Part A. Cluster Analysis"
   ]
  },
  {
   "cell_type": "markdown",
   "metadata": {},
   "source": [
    "Begin by reading in the book titles from the file `all_book_titles.txt` (which should be in the same folder as this Jupyter notebook). Complete the following tasks:\n",
    "\n",
    "   1. Read the book titles into a list of strings named `titles`.\n",
    "   2. Display the first 8 titles in your list. \n",
    "   3. Print the total number of book titles in your list.\n",
    "   "
   ]
  },
  {
   "cell_type": "code",
   "execution_count": 2,
   "metadata": {},
   "outputs": [],
   "source": [
    "# 1. Read the book titles into a list of strings named `titles`.\n",
    "books = open('all_book_titles.txt', 'r')\n",
    "titles = books.read()[:-1].split(sep = \"\\n\") #the last line is empty"
   ]
  },
  {
   "cell_type": "code",
   "execution_count": 3,
   "metadata": {},
   "outputs": [
    {
     "name": "stdout",
     "output_type": "stream",
     "text": [
      "Philosophy of Sex and Love A Reader\n",
      "Readings in Judaism, Christianity, and Islam\n",
      "Microprocessors Principles and Applications\n",
      "Bernhard Edouard Fernow: Story of North American Forestry\n",
      "Encyclopedia of Buddhism\n",
      "Motorola Microprocessor Family: 68000, 68008, 68010, 68020, 68030, and 68040, Programming and Interfacing with Applications\n",
      "American Anthem: Student Edition Modern Era 2007\n",
      "How to Read Literature Like a Professor A Lively and Entertaining Guide to Reading Between the Lines\n"
     ]
    }
   ],
   "source": [
    "# 2. Display the first 8 titles in your list. \n",
    "for t in range(8):\n",
    "    print(titles[t], sep = \"\\n\")"
   ]
  },
  {
   "cell_type": "code",
   "execution_count": 4,
   "metadata": {},
   "outputs": [
    {
     "name": "stdout",
     "output_type": "stream",
     "text": [
      "2373\n"
     ]
    }
   ],
   "source": [
    "# 3. Print the total number of book titles in your list.\n",
    "print(len(titles))"
   ]
  },
  {
   "cell_type": "markdown",
   "metadata": {},
   "source": [
    "In this problem, we use k-means to cluster the book titles. The goal of this problem is to choose the best `k` based on the silhouette score.\n",
    "\n",
    "\n",
    "* For each k=10, 30, 50, ..., 190: cluster all the book titles into k clusters (specify random_state = 100), and compute and print the silhouette score for this choice of k.\n"
   ]
  },
  {
   "cell_type": "markdown",
   "metadata": {},
   "source": [
    "Before we cluster the book titles using k-means, we need to represent each title as a feature vector, very similar to building a histogram. We have provided this code for you. The code uses scikit-learn's [TfidfVectorizer](https://scikit-learn.org/stable/modules/generated/sklearn.feature_extraction.text.TfidfVectorizer.html) class, which represents each document as a feature vector. The resulting variable `X` is a 2-D numpy array, and has rows corresponding to titles, and columns corresponding to different words. For the purposes of this exercise, you do *not* have to worry about how this works. Just treat `X` as a 2D numpy array where rows are feature vectors."
   ]
  },
  {
   "cell_type": "code",
   "execution_count": 5,
   "metadata": {},
   "outputs": [
    {
     "name": "stdout",
     "output_type": "stream",
     "text": [
      "(2373, 176)\n"
     ]
    }
   ],
   "source": [
    "# ****** DO NOT MODIFY CODE IN THIS CELL ******\n",
    "# If your code above works correctly, then running this cell should output (2373, 176).\n",
    "\n",
    "from sklearn.feature_extraction.text import TfidfVectorizer\n",
    "\n",
    "vectorizer = TfidfVectorizer(min_df=20, max_df=0.8)\n",
    "X = vectorizer.fit_transform(titles)\n",
    "\n",
    "print(X.shape)"
   ]
  },
  {
   "cell_type": "code",
   "execution_count": 6,
   "metadata": {},
   "outputs": [
    {
     "name": "stdout",
     "output_type": "stream",
     "text": [
      "k = 10 has silhouette score 0.05046739600679851\n",
      "k = 30 has silhouette score 0.1082315576716557\n",
      "k = 50 has silhouette score 0.14963929010246682\n",
      "k = 70 has silhouette score 0.16690103483272384\n",
      "k = 90 has silhouette score 0.1825460861130015\n",
      "k = 110 has silhouette score 0.18465950677704385\n",
      "k = 130 has silhouette score 0.17812774587424765\n",
      "k = 150 has silhouette score 0.1890134459800901\n",
      "k = 170 has silhouette score 0.18449863541227435\n",
      "k = 190 has silhouette score 0.18154361440680103\n",
      "\n",
      "Best k according to silhouette score: 150\n",
      "Best silhouette score: 0.1890134459800901\n"
     ]
    }
   ],
   "source": [
    "from sklearn import metrics\n",
    "from sklearn.cluster import KMeans\n",
    "\n",
    "best_score = -np.inf\n",
    "best_k = None\n",
    "\n",
    "for k in range(10, 191, 20):\n",
    "    candidate_kmeans = KMeans(n_clusters = k, init = 'k-means++', random_state = 100)\n",
    "    candidate_kmeans.fit(X)\n",
    "    cluster_assignments = candidate_kmeans.predict(X)\n",
    "    \n",
    "    score = metrics.silhouette_score(X, cluster_assignments)\n",
    "    \n",
    "    print('k =', k, 'has silhouette score', score)\n",
    "\n",
    "    if score > best_score:\n",
    "        best_score = score\n",
    "        best_k = k\n",
    "    \n",
    "print('\\nBest k according to silhouette score:', best_k)\n",
    "print('Best silhouette score:', best_score)\n"
   ]
  },
  {
   "cell_type": "code",
   "execution_count": 7,
   "metadata": {},
   "outputs": [
    {
     "data": {
      "text/plain": [
       "array([110,  77,  18, ..., 137,  59,  29], dtype=int32)"
      ]
     },
     "execution_count": 7,
     "metadata": {},
     "output_type": "execute_result"
    }
   ],
   "source": [
    "newkmeans = KMeans(n_clusters = 150, init = \"k-means++\", random_state = 100)\n",
    "newkmeans.fit(X)\n",
    "\n",
    "y_kmeans = newkmeans.predict(X)\n",
    "y_kmeans"
   ]
  },
  {
   "cell_type": "markdown",
   "metadata": {},
   "source": [
    "**Note:** If you include the last line in the text file (which is a blank line), the best $k$ would be 190. Our group made the decision to exclude the last line because it is not a title."
   ]
  },
  {
   "cell_type": "markdown",
   "metadata": {},
   "source": [
    "Interpret the clustering results:\n",
    "\n",
    "* After you obtain the best `k`, print out the book titles in the first 10 clusters given by the best model, and interpret each cluster briefly.\n"
   ]
  },
  {
   "cell_type": "code",
   "execution_count": 8,
   "metadata": {},
   "outputs": [
    {
     "name": "stdout",
     "output_type": "stream",
     "text": [
      "Cluster 0\n",
      "\n",
      "Index: 55 Cluster:0\n",
      "American Art History and Culture\n",
      "Index: 415 Cluster:0\n",
      "Culture Sketches: Case Studies in Anthropology\n",
      "Index: 851 Cluster:0\n",
      "The Greeks: History, Culture, and Society\n",
      "Index: 927 Cluster:0\n",
      "Politics of Passion Women's Sexual Culture in the Afro-surinamese Diaspora\n",
      "Index: 1276 Cluster:0\n",
      "Western Civilizations: Their History & Their Culture (Eighteenth Edition)  (Vol. 1)\n",
      "Index: 1289 Cluster:0\n",
      "Western Civilizations : Their History and Their Culture\n",
      "Index: 1310 Cluster:0\n",
      "The Feminism and Visual Culture Reader: Second Edition (In Sight: Visual Culture)\n",
      "Index: 2275 Cluster:0\n",
      "Feminism and Pop Culture: Seal Studies\n",
      "\n",
      "Cluster 1\n",
      "\n",
      "Index: 1010 Cluster:1\n",
      "Ecology: The Experimental Analysis of Distribution and Abundance\n",
      "Index: 1018 Cluster:1\n",
      "Elements of Ecology\n",
      "Index: 1067 Cluster:1\n",
      "Elements of Ecology (8th Edition)\n",
      "Index: 1727 Cluster:1\n",
      "Agroecology The Ecology of Sustainable Food Systems\n",
      "Index: 1747 Cluster:1\n",
      "Primer of Ecology\n",
      "Index: 1775 Cluster:1\n",
      "Hinduism and Ecology The Intersection of Earth, Sky, and Water\n",
      "Index: 1776 Cluster:1\n",
      "Hinduism and Ecology The Intersection of Earth, Sky, and Water\n",
      "Index: 2059 Cluster:1\n",
      "Stream Ecology Structure and Function of Running Waters\n",
      "\n",
      "Cluster 2\n",
      "\n",
      "Index: 132 Cluster:2\n",
      "Organic Chemistry\n",
      "Index: 135 Cluster:2\n",
      "Organic Chemistry\n",
      "Index: 136 Cluster:2\n",
      "General, Organic, & Biological Chemistry\n",
      "Index: 246 Cluster:2\n",
      "Organic Chemistry\n",
      "Index: 282 Cluster:2\n",
      "Loose-Leaf for Organic Chemistry\n",
      "Index: 1025 Cluster:2\n",
      "Essential Organic Chemistry\n",
      "Index: 1047 Cluster:2\n",
      "Chemistry: An Introduction to General, Organic, and Biological Chemistry\n",
      "Index: 1081 Cluster:2\n",
      "Fundamentals of General, Organic, and Biological Chemistry (7th Edition)\n",
      "Index: 1083 Cluster:2\n",
      "General, Organic, and Biological Chemistry: Structures of Life (4th Edition)\n",
      "Index: 1100 Cluster:2\n",
      "General, Organic, and Biological Chemistry: Structures of Life, Books ala Carte Edition (4th Edition)\n",
      "Index: 1104 Cluster:2\n",
      "Organic Chemistry (8th Edition)\n",
      "Index: 1109 Cluster:2\n",
      "Solutions Manual for Organic Chemistry\n",
      "Index: 1123 Cluster:2\n",
      "General, Organic, and Biological Chemistry\n",
      "Index: 1125 Cluster:2\n",
      "Organic Chemistry : United States Edition\n",
      "Index: 1431 Cluster:2\n",
      "Computational Organic Chemistry\n",
      "Index: 1608 Cluster:2\n",
      "Making the Connections 2: A How-To Guide for Organic Chemistry Lab Techniques, Second Edition\n",
      "Index: 1716 Cluster:2\n",
      "Organic Chemistry\n",
      "Index: 1717 Cluster:2\n",
      "Study Guide with Student Solutions Manual for McMurry's Organic Chemistry, 8th\n",
      "Index: 1784 Cluster:2\n",
      "Organic Chemistry\n",
      "Index: 1889 Cluster:2\n",
      "Introduction to Organic Chemistry\n",
      "Index: 1901 Cluster:2\n",
      "Organic Chemistry\n",
      "Index: 1903 Cluster:2\n",
      "Organic Chemistry\n",
      "Index: 1924 Cluster:2\n",
      "Organic Chemistry\n",
      "Index: 1941 Cluster:2\n",
      "General, Organic, and Biological Chemistry\n",
      "Index: 2115 Cluster:2\n",
      "Techniques in Organic Chemistry\n",
      "\n",
      "Cluster 3\n",
      "\n",
      "Index: 121 Cluster:3\n",
      "Statistical Techniques in Business and Economics\n",
      "Index: 174 Cluster:3\n",
      "Applied Statistics in Business and Economics\n",
      "Index: 187 Cluster:3\n",
      "Managerial Economics & Business Strategy\n",
      "Index: 308 Cluster:3\n",
      "Statistical Techniques in Business and Economics\n",
      "Index: 2230 Cluster:3\n",
      "New Perspectives on Industrial Organization: With Contributions from Behavioral Economics and Game Theory (Springer Texts in Business and Economics)\n",
      "\n",
      "Cluster 4\n",
      "\n",
      "Index: 547 Cluster:4\n",
      "Programming the World Wide Web (7th Edition)\n",
      "Index: 550 Cluster:4\n",
      "Global Marketing (7th Edition)\n",
      "Index: 588 Cluster:4\n",
      "E-Marketing (7th Edition)\n",
      "Index: 594 Cluster:4\n",
      "C: How to Program, 7th Edition\n",
      "Index: 602 Cluster:4\n",
      "Managerial Economics (7th Edition)\n",
      "Index: 605 Cluster:4\n",
      "Business Data Communications- Infrastructure, Networking and Security (7th Edition)\n",
      "Index: 610 Cluster:4\n",
      "International Business: The Challenges of Globalization (7th Edition)\n",
      "Index: 670 Cluster:4\n",
      "Services Marketing (7th Edition)\n",
      "Index: 840 Cluster:4\n",
      "Understanding Music (7th Edition)\n",
      "Index: 879 Cluster:4\n",
      "Sociology of Education, The (7th Edition)\n",
      "Index: 903 Cluster:4\n",
      "Forty Studies that Changed Psychology (7th Edition)\n",
      "Index: 1046 Cluster:4\n",
      "Astronomy Today (7th Edition)\n",
      "\n",
      "Cluster 5\n",
      "\n",
      "Index: 45 Cluster:5\n",
      "Plant Design and Economics for Chemical Engineers\n",
      "Index: 53 Cluster:5\n",
      "Fluid Mechanics for Chemical Engineers\n",
      "Index: 118 Cluster:5\n",
      "Vector Mechanics for Engineers: Statics and Dynamics\n",
      "Index: 250 Cluster:5\n",
      "Vector Mechanics for Engineers: Statics\n",
      "Index: 251 Cluster:5\n",
      "Vector Mechanics for Engineers: Dynamics\n",
      "Index: 734 Cluster:5\n",
      "Chaos and Nonlinear Dynamics An Introduction for Scientists and Engineers\n",
      "Index: 1156 Cluster:5\n",
      "Calculus for Scientists and Engineers\n",
      "Index: 1448 Cluster:5\n",
      "MATLAB Programming for Engineers\n",
      "Index: 1518 Cluster:5\n",
      "Quantum Mechanics for Scientists and Engineers\n",
      "Index: 1952 Cluster:5\n",
      "Thermodynamics for Engineers\n",
      "\n",
      "Cluster 6\n",
      "\n",
      "Index: 59 Cluster:6\n",
      "Introduction to Forensics & Criminalistics \n",
      "Index: 128 Cluster:6\n",
      "Introduction to Chemistry: Third Edition\n",
      "Index: 560 Cluster:6\n",
      "Introduction to Management Science (11th Edition)\n",
      "Index: 770 Cluster:6\n",
      "Criminological Theories: Introduction, Evaluation, and Application\n",
      "Index: 808 Cluster:6\n",
      "How English Works : A Linguistic Introduction\n",
      "Index: 809 Cluster:6\n",
      "Introduction  to the Bible (8th Edition)\n",
      "Index: 810 Cluster:6\n",
      "Concise Introduction to Linguistics\n",
      "Index: 1215 Cluster:6\n",
      "Essential Linguistics What You Need to Know to Teach Reading, Esl, Spelling, Phonics, and Grammar\n",
      "Index: 1220 Cluster:6\n",
      "Introduction to Applied Nonlinear Dynamical Systems and Chaos\n",
      "Index: 1265 Cluster:6\n",
      "Introduction to Economic Growth (Third Edition)\n",
      "Index: 1365 Cluster:6\n",
      "Introduction to Electric Circuits\n",
      "Index: 1480 Cluster:6\n",
      "Introduction to the Theory of Thermal Neutron Scattering\n",
      "Index: 1491 Cluster:6\n",
      "An Introduction to Hinduism (Introduction to Religion)\n",
      "Index: 1494 Cluster:6\n",
      "Chinese A Linguistic Introduction\n",
      "Index: 1502 Cluster:6\n",
      "An Introduction to Judaism (Introduction to Religion)\n",
      "Index: 1506 Cluster:6\n",
      "Introduction to Support Vector Machines And Other Kernel-Based Learning Methods\n",
      "Index: 1795 Cluster:6\n",
      "Introduction to Electronics\n",
      "Index: 1861 Cluster:6\n",
      "Introduction to Psychology: Gateways to Mind and Behavior, 13th Edition\n",
      "Index: 1925 Cluster:6\n",
      "Introduction to Electric Circuits\n",
      "Index: 2004 Cluster:6\n",
      "Listening to Music (with Introduction to Listening CD)\n",
      "Index: 2247 Cluster:6\n",
      "Introduction to Computer Networks and Cybersecurity\n",
      "\n",
      "Cluster 7\n",
      "\n",
      "Index: 574 Cluster:7\n",
      "Starting Out with Java: From Control Structures through Objects (5th Edition)\n",
      "Index: 593 Cluster:7\n",
      "Starting Out with Java: From Control Structures through Objects plus MyProgrammingLab with Pearson eText -- Access Card Package (5th Edition)\n",
      "Index: 1014 Cluster:7\n",
      "Starting Out with Java : From Control Structures through Data Structures\n",
      "Index: 2101 Cluster:7\n",
      "Fundamentals of Python: From First Programs through Data Structures\n",
      "\n",
      "Cluster 8\n",
      "\n",
      "Index: 42 Cluster:8\n",
      "Computer Organization\n",
      "Index: 100 Cluster:8\n",
      "Computer Organization\n",
      "Index: 452 Cluster:8\n",
      "Computer Organization and Architecture Designing for Performance\n",
      "Index: 467 Cluster:8\n",
      "Structured Computer Organization\n",
      "Index: 486 Cluster:8\n",
      "Structured Computer Organization\n",
      "Index: 487 Cluster:8\n",
      "Principles of Computer Organization and Assembly Language\n",
      "Index: 581 Cluster:8\n",
      "Structured Computer Organization (6th Edition)\n",
      "Index: 583 Cluster:8\n",
      "Computer Organization and Architecture (9th Edition) (William Stallings Books on Computer and Data Communications)\n",
      "Index: 662 Cluster:8\n",
      "Computer Organization and Architecture: Designing for Performance\n",
      "Index: 795 Cluster:8\n",
      "Computer Systems Organization & Architecture\n",
      "Index: 954 Cluster:8\n",
      "Computer Organization and Architecture: Designing for Performance. by William Stallings\n",
      "Index: 1434 Cluster:8\n",
      "Computer Architecture and Organization: An Integrated Approach\n",
      "Index: 1623 Cluster:8\n",
      "Essentials of Computer Organization And Architecture \n",
      "Index: 1880 Cluster:8\n",
      "Computer Organization & Architecture: Themes and Variations\n",
      "Index: 2021 Cluster:8\n",
      "The Essentials of Computer Organization and Architecture\n",
      "Index: 2173 Cluster:8\n",
      "The Essentials of Computer Organization and Architecture\n",
      "Index: 2176 Cluster:8\n",
      "Essentials of Computer Organization and Architecture\n",
      "\n",
      "Cluster 9\n",
      "\n",
      "Index: 473 Cluster:9\n",
      "Forensic Science: From the Crime Scene to the Crime Lab\n",
      "Index: 513 Cluster:9\n",
      "Crisis Intervention: The Criminal Justice Response to Chaos, Mayhem, and Disorder\n",
      "Index: 561 Cluster:9\n",
      "[ The Career Fitness Program: Exercising Your Options [ THE CAREER FITNESS PROGRAM: EXERCISING YOUR OPTIONS ] By Sukiennik, Diane ( Author )Dec-27-2011 Paperback\n",
      "Index: 632 Cluster:9\n",
      "Technical Communication in the Twenty-First Century\n",
      "Index: 742 Cluster:9\n",
      "Deuteronomy and the Judaean Diaspora\n",
      "Index: 772 Cluster:9\n",
      "Talons of the Eagle: Latin America, the United States, and the World\n",
      "Index: 814 Cluster:9\n",
      "The Sociology Project: Introducing the Sociological Imagination\n",
      "Index: 934 Cluster:9\n",
      "Carlos Aldama's Life in Batá : Cuba, Diaspora, and the Drum\n",
      "Index: 955 Cluster:9\n",
      "Defeat Is the Only Bad News: Rwanda under Musinga, 1896-1931 (Africa and the Diaspora)\n",
      "Index: 1085 Cluster:9\n",
      "Essential Environment: The Science Behind the Stories\n",
      "Index: 1218 Cluster:9\n",
      "Sailing the Wine-Dark Sea Why the Greeks Matter\n",
      "Index: 1234 Cluster:9\n",
      "The Norton Recordings: Shorter Version: Four CDs to accompany The Norton Scores & The Enjoyment of Music, Eleventh Edition\n",
      "Index: 1484 Cluster:9\n",
      "The Forgotten Diaspora: Jewish Communities in West Africa and the Making of the Atlantic World\n",
      "Index: 1557 Cluster:9\n",
      "Prophet and the Age of the Caliphates The Islamic Near East from the Sixth to the Eleventh Century\n",
      "Index: 1586 Cluster:9\n",
      "Politics of Piety - the Islamic Revival and the Feminist Subject\n",
      "Index: 1613 Cluster:9\n",
      "The Crusades: Islamic Perspectives (Islamic Surveys)\n",
      "Index: 1694 Cluster:9\n",
      "Neural Networks and Analog Computation Beyond the Turing Limit\n",
      "Index: 1699 Cluster:9\n",
      "Image Matters: Archive, Photography, and the African Diaspora in Europe\n",
      "Index: 1737 Cluster:9\n",
      "Meditations on First Philosophy In Which the Existence of God and the Distinction of the Soul from the Body Are Demonstrated\n",
      "Index: 2257 Cluster:9\n",
      "Taking on the Big Boys Or Why Feminism Is Good for Families, Business, and the Nation\n",
      "\n"
     ]
    }
   ],
   "source": [
    "for i in range(10):\n",
    "    print(\"Cluster {}\\n\".format(i))\n",
    "    for title in range(len(titles)):\n",
    "        if y_kmeans[title] == i:\n",
    "            print(\"Index: \" + str(title), \"Cluster:\" + str(i))\n",
    "            print(titles[title])\n",
    "    print()"
   ]
  },
  {
   "cell_type": "markdown",
   "metadata": {},
   "source": [
    "**Cluster 0:**\n",
    "All books in this cluster feature culture somewhere in their title.\\\n",
    "**Cluster 1:**\n",
    "All books in cluster 1 have ecology in their titles. \\\n",
    "**Cluster 2:**\n",
    "Books in cluster 2 are entirely chemistry books. \\\n",
    "**Cluster 3:**\n",
    "This cluster features titles with business and economics.  \\\n",
    "**Cluster 4:**\n",
    "Cluster 4 books are all in their 7th Edition.\\\n",
    "**Cluster 5:**\n",
    "All books in cluster 5 contain engineer in their title. \\\n",
    "**Cluster 6:**\n",
    "Cluster 6 has two distinct types of titles, those that are an introduction to something, and those that are about linguistics. Most titles are introductions, while there are a few titles that are focused primarily on linguistics. \\\n",
    "**Cluster 7:**\n",
    "Titles in cluster 7 share a colon and then the term \"from\". The first three titles are related to Java and control structures, while the last title is related to Python. All are programming language related. \\\n",
    "**Cluster 8:**\n",
    "Titles in cluster 8 feature \"computer\" as a key word. All of their subjects revolve around computer organization and architecture. \\\n",
    "**Cluster 9:**\n",
    "All titles in cluster 9 share having a colon in their title. However, indexes 1737 and 2257 appear to only share \"the\" within their titles."
   ]
  },
  {
   "cell_type": "markdown",
   "metadata": {},
   "source": [
    "# Part B. Generative AI"
   ]
  },
  {
   "cell_type": "markdown",
   "metadata": {},
   "source": [
    "As we will discuss in the last module, generative AI has the potential to add trillions of dollars in value to the global economy and significantly increase global GDP. In this project, you will explore the potential of generative AI and propose a specific business use case.\n",
    "\n",
    "1. Define the Question: Think about one business question you want to solve with generative AI. Clearly define this question and briefly discuss your motivation for choosing it. Explain the potential benefits of solving this question.\n",
    "\n",
    "2. Describe the Implementation: Describe how you plan to implement generative AI to address the chosen business question. This should include some specific generative AI technologies or models you plan to use, the data required, and the steps involved in integrating the AI solution into the business process.\n",
    "\n",
    "3. Discuss Potential Risks: Identify and discuss potential risks associated with your proposed generative AI solution. Consider aspects such as data privacy, ethical concerns, technical challenges, and any unintended consequences that may arise. Propose strategies to mitigate these risks."
   ]
  },
  {
   "cell_type": "markdown",
   "metadata": {},
   "source": [
    "#### 1. Define the Question: \n",
    "\n",
    "One business question we want to solve with generative AI is within the advertising industry. We want to use generative AI to create personalized advertisements that can target every individual consumer differently. Assuming we are a social media platform that generates revenue through selling advertisements, we want to help our clients (for example, a clothing company) create the most effective advertisement that leads to a high sales rate. Considering advertisers already use large amounts of data to determine consumer preference, we believe that using Generative AI can allow advertisers to deliver the right products to the right consumers. The benefits of having customized advertising for each consumer would be increased sales for the products of the business advertising. Using generative AI to create ads would also cut down on the labour costs associated with the creation of advertisements at a large scale. "
   ]
  },
  {
   "cell_type": "markdown",
   "metadata": {},
   "source": [
    "     "
   ]
  },
  {
   "cell_type": "markdown",
   "metadata": {},
   "source": [
    "#### 2. Describe the Implementation: \n",
    "\n",
    "**Information needed:** \\\n",
    "User data: We need to know what users on our platform want and enjoy. One way to determine user preference is by analyzing their search history and the content users interact with (i.e., “winter outfit ideas”, “what to do in Vancouver winter”).\n",
    "\n",
    "Client’s data: We need to know what the client is trying to sell (i.e., Canada Goose, winter jackets) and images and information of their product\n",
    "\n",
    "Some generative AI technologies we can utilize are Adobe Firefly and ChatGPT’s Sora, which both are video generators. We can use these video generators to create targeted advertisements to match up users with our clients. \n",
    "\n",
    "Example: \n",
    "User data: This user follows professional skiers on our platform, scrolls through many skiing videos, and has previously tagged himself at Whistler Ski Resort. The user has saved up a couple of winter outfits that have blue jackets. \n",
    "\n",
    "Client product: Canada Goose’s database shows it sells blue winter ski jackets, and has images and models of the blue winter jacket. \n",
    "\n",
    "What we can do is generate an advertisement video of someone skiing in Whistler wearing a blue Canada Goose jacket, instead of generic videos of someone wearing a yellow winter jacket ice climbing. The consumer will see the video and feel that Canada Goose has exactly what they want, rather than having to go to Canada Goose’s website and manually look for a specific blue ski jacket. \n"
   ]
  },
  {
   "cell_type": "markdown",
   "metadata": {},
   "source": [
    "#### 3. Discuss Potential Risks:\n",
    "\n",
    "1. **Data Privacy:** For advertisers to create the most personalized ads, advertisers need to collect a large amount of information about the consumer. Consumers might not be aware their data is being collected and used for advertisement, or used to train AI models, creating mistrust between the parties. Consumers may feel that the ads are too personalized, to the point where the ads become an invasion of privacy, damaging the brand image. For instance, with Canada Goose’s blue winter jacket example, the user may not feel like their privacy is invaded because it is relatively harmless for people to know one likes a blue winter jacket. However, if the product becomes something more personal (i.e., legal service for divorce), *the user may feel like their privacy is violated*. Generative AI is certainly capable of creating an ad video that shows “Hello X, we know you are going through a divorce with your partner, Y law firm get it done fast so you can go back to skiing in Whistler!” These hyper specific ads may have the reverse effect and cause consumers to be turned off from the brands if they feel that their privacy has been violated, which could cause a loss of sales for the advertising firm.\n",
    "\n",
    "2. **Technical Challenges:** Generative AI is known for hallucination, which can be problematic if it starts to come up with “fake” images or texts about the product (i.e. Canada Goose’s winter jacket is not fireproof, but AI comes up with footage of people wearing it during fire rescue). The unintended consequences could be that someone will buy these jackets thinking the jacket is fireproof, and wear it during a fire incident, only to be burned to death. This will create liabilities for our clients and our platform. Worse, if Generative AI starts to create biased video ad campaigns (i.e., Only white men wear Canada Goose and ski at Whistler), platform users and companies may leave our platform. \n",
    "\n",
    "3. **Intellectual Property Rights:** The current legal system is not prepared to deal with work created with generative AI. Generative AI extracts data from the internet to train itself, and the work it produces is derivative of what it has extracted. There is no clear definition of who owns what the AI generates, especially if the end product contains copyrighted material. Referencing back to the Canada Goose example, if generative AI produces an ad campaign that has the face of a celebrity (i.e., Scarlett Johansson wearing Canada Goose) without permission from the celebrity, there is a potential for lawsuits. With the recent Studio Ghibli trend, generative AI may come out with a Ghibli-style ad campaign, placing the campaign in a legally grey area. As a platform creating ad campaigns for clients, turning every campaign into a legal battle will ruin the relationship between platform users and consumers (i.e., clothing companies), eventually ruining the entire business.  \n",
    "\n",
    "    Besides legal challenges, content created by generative AI can lack creativity and be plagiaristic. If consumers find the ad campaign boring or is trying to imitate something else, the campaign may not be as effective. Worse, consumers might dislike or boycott the product, ruining the brand’s image.\n",
    "\n",
    "\n",
    "4. **Prevention:** Currently, there is no technique or technology that can absolutely prevent Generative AI from hallucinating, but there are ways to reduce it. Be cautious of the data and footage we use to train the Generative AI, and do not assume it can tell what is “right” or “wrong”. One example is TidePods (turquoise colored detergent balls). There are many videos of people eating TidePods (TidePods challenge), but it does not mean one should eat TidePods. If we rely on the videos on the platform about TidePods, Adobe Firefly may generate ad campaigns of TidePods for consumption (more videos of people eating than washing clothes with it). Instead, we need to provide training data of people using TidePods as detergent balls to generate the desirable ad campaign. Besides providing high-quality data, having humans verify the final output is equally important. Since there is no guarantee AI will always generate what we want, having human reviewers can ensure that unwanted output is filtered or corrected. "
   ]
  },
  {
   "cell_type": "markdown",
   "metadata": {},
   "source": [
    "#### References:\n",
    "*AI video generator - Adobe Firefly*. (n.d.). https://www.adobe.com/products/firefly/features/ai-video-generator.html\n",
    "\n",
    "Appel, G., Neelbauer, J., & Schweidel, D. A. (2023, April 7). *Generative AI has an intellectual property problem*. Harvard Business Review. https://hbr.org/2023/04/generative-ai-has-an-intellectual-property-problem\n",
    "\n",
    "Ding, A. W., & Li, S. (2025, March 20). *Generative AI lacks the human creativity to achieve scientific discovery from scratch.* Nature News. https://www.nature.com/articles/s41598-025-93794-9\n",
    "\n",
    "Djajapranata, C. (2024, June 4). *OpenAI v. Scarlett Johansson? law professor answers legal questions on AI-generated content*. Georgetown University. https://www.georgetown.edu/news/ask-a-professor-openai-v-scarlett-johansson/\n",
    "\n",
    "Farnschläder, T. (2025, January 27). *AI hallucinations: A guide with examples*. DataCamp. https://www.datacamp.com/blog/ai-hallucination\n",
    "\n",
    "*Gen AI can tailor ads to our personalities-and they’re pretty persuasive*. Kellogg Insight. (2024, September 16). https://insight.kellogg.northwestern.edu/article/gen-ai-can-tailor-ads-to-our-personalities-and-theyre-pretty-persuasive\n",
    "\n",
    "*Generative AI in marketing*. IBM. (2025a, March 20). https://www.ibm.com/think/topics/generative-ai-marketing\n",
    "\n",
    "Harkness, L., Robinson, K., Stein, E., & Wu, W. (2023, December 5). *How generative AI can boost consumer marketing*. McKinsey & Company. https://www.mckinsey.com/capabilities/growth-marketing-and-sales/our-insights/how-generative-ai-can-boost-consumer-marketing\n",
    "\n",
    "Kumar, M., & Kapoor, A. (2023, November 27). *Generative AI and personalized video advertisements*. SSRN. https://papers.ssrn.com/sol3/papers.cfm?abstract_id=4614118\n",
    "\n",
    "Patel, N. (2024, February 15). *How AI copyright lawsuits could make the whole industry go extinct*. The Verge. https://www.theverge.com/24062159/ai-copyright-fair-use-lawsuits-new-york-times-openai-chatgpt-decoder-podcast\n",
    "\n",
    "Runco, M. A. (2023, August 25). *AI can only produce artificial creativity*. Journal of Creativity. https://www.sciencedirect.com/science/article/pii/S2713374523000225#sec0001\n",
    "\n",
    "*Sora: Creating video from text*. (n.d.). https://openai.com/index/sora\n",
    "\n",
    "Tang, B. J., Sun, K., Curran, N. T., Schaub, F., & Shin, K. G. (2024, September). *Gen AI Advertising: Risks of Personalizing Ads with LLMs. Research Gate*. https://www.researchgate.net/publication/384295122_GenAI_Advertising_Risks_of_Personalizing_Ads_with_LLMs\n",
    "\n",
    "Vincent, J. (2022, November 15). *The scary truth about AI copyright is nobody knows what will happen next*. The Verge. https://www.theverge.com/23444685/generative-ai-copyright-infringement-legal-fair-use-training-data\n",
    "\n",
    "*What are AI hallucinations?*. IBM. (2025b, February 13). https://www.ibm.com/think/topics/ai-hallucinations\n",
    "\n",
    "*When AI gets it wrong: Addressing AI hallucinations and bias*. MIT Sloan Teaching & Learning Technologies. (2024, November 12). https://mitsloanedtech.mit.edu/ai/basics/addressing-ai-hallucinations-and-bias/ "
   ]
  }
 ],
 "metadata": {
  "kernelspec": {
   "display_name": "Python 3 (ipykernel)",
   "language": "python",
   "name": "python3"
  },
  "language_info": {
   "codemirror_mode": {
    "name": "ipython",
    "version": 3
   },
   "file_extension": ".py",
   "mimetype": "text/x-python",
   "name": "python",
   "nbconvert_exporter": "python",
   "pygments_lexer": "ipython3",
   "version": "3.12.8"
  }
 },
 "nbformat": 4,
 "nbformat_minor": 4
}
